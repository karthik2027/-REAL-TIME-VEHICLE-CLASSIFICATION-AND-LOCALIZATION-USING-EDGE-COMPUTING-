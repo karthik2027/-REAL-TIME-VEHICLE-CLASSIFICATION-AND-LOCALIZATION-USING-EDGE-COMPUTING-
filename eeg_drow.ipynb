{
  "nbformat": 4,
  "nbformat_minor": 0,
  "metadata": {
    "colab": {
      "name": "eeg_drow.ipynb",
      "provenance": [],
      "include_colab_link": true
    },
    "kernelspec": {
      "name": "python3",
      "display_name": "Python 3"
    },
    "accelerator": "GPU"
  },
  "cells": [
    {
      "cell_type": "markdown",
      "metadata": {
        "id": "view-in-github",
        "colab_type": "text"
      },
      "source": [
        "<a href=\"https://colab.research.google.com/github/karthik2027/-REAL-TIME-VEHICLE-CLASSIFICATION-AND-LOCALIZATION-USING-EDGE-COMPUTING-/blob/master/eeg_drow.ipynb\" target=\"_parent\"><img src=\"https://colab.research.google.com/assets/colab-badge.svg\" alt=\"Open In Colab\"/></a>"
      ]
    },
    {
      "cell_type": "code",
      "metadata": {
        "id": "50rB7DzRk_oz",
        "colab_type": "code",
        "colab": {
          "base_uri": "https://localhost:8080/",
          "height": 54
        },
        "outputId": "ca33cb13-94f9-4928-83a9-e5358cdc74a8"
      },
      "source": [
        "from google.colab import drive\n",
        "drive.mount('/content/drive')"
      ],
      "execution_count": 25,
      "outputs": [
        {
          "output_type": "stream",
          "text": [
            "Drive already mounted at /content/drive; to attempt to forcibly remount, call drive.mount(\"/content/drive\", force_remount=True).\n"
          ],
          "name": "stdout"
        }
      ]
    },
    {
      "cell_type": "code",
      "metadata": {
        "id": "27AntRF0spXX",
        "colab_type": "code",
        "colab": {}
      },
      "source": [
        "#!pip install -U git+https://github.com/keras-team/keras-applications"
      ],
      "execution_count": 0,
      "outputs": []
    },
    {
      "cell_type": "code",
      "metadata": {
        "id": "LNoW2pB_BGrd",
        "colab_type": "code",
        "colab": {}
      },
      "source": [
        "import os, cv2, random\n",
        "import numpy as np\n",
        "import pandas as pd\n",
        "import seaborn as sns\n",
        "import matplotlib.pyplot as plt\n",
        "from sklearn.model_selection import train_test_split\n",
        "from sklearn.metrics import classification_report\n",
        "from tqdm import tqdm\n",
        "from random import shuffle \n",
        "from IPython.display import SVG\n",
        "from keras.utils.vis_utils import model_to_dot\n",
        "from keras.models import load_model \n",
        "from keras.callbacks import ModelCheckpoint\n",
        "from keras.utils import plot_model\n",
        "from tensorflow.python.keras.applications import ResNet50\n",
        "from tensorflow.python.keras.models import Sequential\n",
        "from tensorflow.python.keras.layers import Dense, Flatten, GlobalAveragePooling2D, Dropout\n",
        "%matplotlib inline "
      ],
      "execution_count": 0,
      "outputs": []
    },
    {
      "cell_type": "code",
      "metadata": {
        "id": "Zkdf7H-lBYFp",
        "colab_type": "code",
        "colab": {}
      },
      "source": [
        "TEST_SIZE = 0.5\n",
        "RANDOM_STATE = 2018\n",
        "BATCH_SIZE = 4\n",
        "NO_EPOCHS = 30\n",
        "NUM_CLASSES = 3\n",
        "SAMPLE_SIZE_TRAIN = 343\n",
        "SAMPLE_SIZE_TEST = 3 \n",
        "PATH = '/content/drive/My Drive/data_all.zip (Unzipped Files)/'\n",
        "TRAIN_FOLDER = PATH + 'Train'\n",
        "TEST_FOLDER = PATH + 'Test'\n",
        "IMG_SIZE = 224\n",
        "RESNET_WEIGHTS_PATH = '../input/resnet50/resnet50_weights_tf_dim_ordering_tf_kernels_notop.h5'"
      ],
      "execution_count": 0,
      "outputs": []
    },
    {
      "cell_type": "code",
      "metadata": {
        "id": "g869OFYcCF7R",
        "colab_type": "code",
        "colab": {}
      },
      "source": [
        "train_image_list = os.listdir(TRAIN_FOLDER)[0:SAMPLE_SIZE_TRAIN]"
      ],
      "execution_count": 0,
      "outputs": []
    },
    {
      "cell_type": "code",
      "metadata": {
        "id": "zBYiahFzrBGj",
        "colab_type": "code",
        "colab": {}
      },
      "source": [
        "test_image_list = os.listdir(TEST_FOLDER)[0:SAMPLE_SIZE_TEST]"
      ],
      "execution_count": 0,
      "outputs": []
    },
    {
      "cell_type": "code",
      "metadata": {
        "id": "e32sVRVdCbKa",
        "colab_type": "code",
        "colab": {}
      },
      "source": [
        "def label_pet_image_one_hot_encoder(img):\n",
        "    state = img[0:3]\n",
        "    if state == 'asl': return [1,0,0]\n",
        "    elif state == 'awa': return [0,1,0]\n",
        "    elif state == 'dro': return [0,0,1]"
      ],
      "execution_count": 0,
      "outputs": []
    },
    {
      "cell_type": "code",
      "metadata": {
        "id": "NVGWt4OuFrnV",
        "colab_type": "code",
        "colab": {}
      },
      "source": [
        "def process_data(data_image_list, DATA_FOLDER, isTrain=True):\n",
        "    data_df = []\n",
        "    for img in tqdm(data_image_list):\n",
        "        path = os.path.join(DATA_FOLDER,img)\n",
        "        if(isTrain):\n",
        "            label = label_pet_image_one_hot_encoder(img)\n",
        "        else:\n",
        "            label = img.split('.')[0]\n",
        "        img = cv2.imread(path,cv2.IMREAD_COLOR)\n",
        "        img = cv2.resize(img, (IMG_SIZE,IMG_SIZE))\n",
        "        data_df.append([np.array(img),np.array(label)])\n",
        "    shuffle(data_df)\n",
        "    return data_df"
      ],
      "execution_count": 0,
      "outputs": []
    },
    {
      "cell_type": "code",
      "metadata": {
        "id": "x1rx3AIuF59I",
        "colab_type": "code",
        "colab": {
          "base_uri": "https://localhost:8080/",
          "height": 54
        },
        "outputId": "152187ce-f339-4282-c82a-826f88d3bbc9"
      },
      "source": [
        "\"\"\"def plot_image_list_count(data_image_list):\n",
        "    labels = []\n",
        "    for img in data_image_list:\n",
        "        labels.append(img.split('.')[-3])\n",
        "    sns.countplot(labels)\n",
        "    plt.title('Cats and Dogs')\n",
        "    \n",
        "plot_image_list_count(train_image_list)\"\"\""
      ],
      "execution_count": 10,
      "outputs": [
        {
          "output_type": "execute_result",
          "data": {
            "text/plain": [
              "\"def plot_image_list_count(data_image_list):\\n    labels = []\\n    for img in data_image_list:\\n        labels.append(img.split('.')[-3])\\n    sns.countplot(labels)\\n    plt.title('Cats and Dogs')\\n    \\nplot_image_list_count(train_image_list)\""
            ]
          },
          "metadata": {
            "tags": []
          },
          "execution_count": 10
        }
      ]
    },
    {
      "cell_type": "code",
      "metadata": {
        "id": "bMVZ6rwPGDcs",
        "colab_type": "code",
        "colab": {}
      },
      "source": [
        "#plot_image_list_count(os.listdir(TRAIN_FOLDER))"
      ],
      "execution_count": 0,
      "outputs": []
    },
    {
      "cell_type": "code",
      "metadata": {
        "id": "2NSQRf_BGNby",
        "colab_type": "code",
        "colab": {
          "base_uri": "https://localhost:8080/",
          "height": 34
        },
        "outputId": "4526122e-7522-44e5-8a80-6a9c1c2e0a6c"
      },
      "source": [
        "train = process_data(train_image_list, TRAIN_FOLDER)"
      ],
      "execution_count": 31,
      "outputs": [
        {
          "output_type": "stream",
          "text": [
            "100%|██████████| 343/343 [00:03<00:00, 105.01it/s]\n"
          ],
          "name": "stderr"
        }
      ]
    },
    {
      "cell_type": "code",
      "metadata": {
        "id": "89WMZUooGval",
        "colab_type": "code",
        "colab": {
          "base_uri": "https://localhost:8080/",
          "height": 34
        },
        "outputId": "1a668888-d771-4c1f-fd17-c2318b449c77"
      },
      "source": [
        "test = process_data(test_image_list, TEST_FOLDER, False)"
      ],
      "execution_count": 32,
      "outputs": [
        {
          "output_type": "stream",
          "text": [
            "100%|██████████| 3/3 [00:00<00:00, 79.68it/s]\n"
          ],
          "name": "stderr"
        }
      ]
    },
    {
      "cell_type": "code",
      "metadata": {
        "id": "5IPkXkZ0G8QZ",
        "colab_type": "code",
        "colab": {}
      },
      "source": [
        "X = np.array([i[0] for i in train]).reshape(-1,IMG_SIZE,IMG_SIZE,3)\n",
        "y = np.array([i[1] for i in train])"
      ],
      "execution_count": 0,
      "outputs": []
    },
    {
      "cell_type": "code",
      "metadata": {
        "id": "M2VMpSK1uND3",
        "colab_type": "code",
        "colab": {
          "base_uri": "https://localhost:8080/",
          "height": 71
        },
        "outputId": "9f40af8c-31ac-4813-faf0-51f3d17e4d4b"
      },
      "source": [
        "res_50_model = ResNet50(weights='imagenet', include_top=False)"
      ],
      "execution_count": 34,
      "outputs": [
        {
          "output_type": "stream",
          "text": [
            "/usr/local/lib/python3.6/dist-packages/keras_applications/resnet50.py:265: UserWarning: The output shape of `ResNet50(include_top=False)` has been changed since Keras 2.2.0.\n",
            "  warnings.warn('The output shape of `ResNet50(include_top=False)` '\n"
          ],
          "name": "stderr"
        }
      ]
    },
    {
      "cell_type": "code",
      "metadata": {
        "id": "aevNHaFTHFk1",
        "colab_type": "code",
        "colab": {}
      },
      "source": [
        "model = Sequential()\n",
        "model.add(ResNet50(include_top=False, pooling='max', weights='imagenet'))\n",
        "model.add(Dense(NUM_CLASSES, activation='softmax'))\n",
        "#model.add(Dropout(0.01))\n",
        "# ResNet-50 model is already trained, should not be trained\n",
        "model.layers[0].trainable = True"
      ],
      "execution_count": 0,
      "outputs": []
    },
    {
      "cell_type": "code",
      "metadata": {
        "id": "2s7lMVrQHMlM",
        "colab_type": "code",
        "colab": {}
      },
      "source": [
        "model.compile(optimizer='sgd', loss='categorical_crossentropy', metrics=['accuracy'])"
      ],
      "execution_count": 0,
      "outputs": []
    },
    {
      "cell_type": "code",
      "metadata": {
        "id": "i5ceeGMfHVvA",
        "colab_type": "code",
        "colab": {
          "base_uri": "https://localhost:8080/",
          "height": 255
        },
        "outputId": "98214c4e-534a-442f-e5de-12351999a93f"
      },
      "source": [
        "model.summary()"
      ],
      "execution_count": 18,
      "outputs": [
        {
          "output_type": "stream",
          "text": [
            "Model: \"sequential\"\n",
            "_________________________________________________________________\n",
            "Layer (type)                 Output Shape              Param #   \n",
            "=================================================================\n",
            "resnet50 (Model)             (None, 2048)              23587712  \n",
            "_________________________________________________________________\n",
            "dense (Dense)                (None, 3)                 6147      \n",
            "_________________________________________________________________\n",
            "dropout (Dropout)            (None, 3)                 0         \n",
            "=================================================================\n",
            "Total params: 23,593,859\n",
            "Trainable params: 23,540,739\n",
            "Non-trainable params: 53,120\n",
            "_________________________________________________________________\n"
          ],
          "name": "stdout"
        }
      ]
    },
    {
      "cell_type": "code",
      "metadata": {
        "id": "BUZJzIPWHlgB",
        "colab_type": "code",
        "colab": {}
      },
      "source": [
        "X_train, X_val, y_train, y_val = train_test_split(X, y, test_size=TEST_SIZE, random_state=RANDOM_STATE,shuffle=True)"
      ],
      "execution_count": 0,
      "outputs": []
    },
    {
      "cell_type": "code",
      "metadata": {
        "id": "WpCRiO_DNWMt",
        "colab_type": "code",
        "colab": {}
      },
      "source": [
        "filepath=\"weights.best.hdf5\" \n",
        "checkpoint = ModelCheckpoint(filepath, monitor='val_acc', verbose=1, save_best_only=True, mode='max') \n",
        "callbacks_list = [checkpoint]"
      ],
      "execution_count": 0,
      "outputs": []
    },
    {
      "cell_type": "code",
      "metadata": {
        "id": "GAiD_Kh_H0Sh",
        "colab_type": "code",
        "colab": {
          "base_uri": "https://localhost:8080/",
          "height": 1000
        },
        "outputId": "84d3b4d6-24e0-4a2c-ba2e-2a0c615ad9b7"
      },
      "source": [
        "train_model = model.fit(X_train, y_train,\n",
        "                  batch_size=BATCH_SIZE,\n",
        "                  epochs=NO_EPOCHS,\n",
        "                  verbose=1,\n",
        "                  callbacks= callbacks_list,\n",
        "                  validation_data=(X_val, y_val))\n"
      ],
      "execution_count": 54,
      "outputs": [
        {
          "output_type": "stream",
          "text": [
            "Train on 171 samples, validate on 172 samples\n",
            "Epoch 1/30\n",
            "168/171 [============================>.] - ETA: 0s - loss: 0.2314 - acc: 0.9226\n",
            "Epoch 00001: val_acc improved from -inf to 0.58721, saving model to weights.best.hdf5\n",
            "171/171 [==============================] - 14s 85ms/sample - loss: 0.2301 - acc: 0.9240 - val_loss: 2.0169 - val_acc: 0.5872\n",
            "Epoch 2/30\n",
            "168/171 [============================>.] - ETA: 0s - loss: 0.0825 - acc: 0.9821\n",
            "Epoch 00002: val_acc improved from 0.58721 to 0.80233, saving model to weights.best.hdf5\n",
            "171/171 [==============================] - 10s 58ms/sample - loss: 0.0813 - acc: 0.9825 - val_loss: 0.9609 - val_acc: 0.8023\n",
            "Epoch 3/30\n",
            "168/171 [============================>.] - ETA: 0s - loss: 0.0320 - acc: 0.9881\n",
            "Epoch 00003: val_acc did not improve from 0.80233\n",
            "171/171 [==============================] - 9s 56ms/sample - loss: 0.0316 - acc: 0.9883 - val_loss: 0.9469 - val_acc: 0.7733\n",
            "Epoch 4/30\n",
            "168/171 [============================>.] - ETA: 0s - loss: 0.0113 - acc: 1.0000\n",
            "Epoch 00004: val_acc did not improve from 0.80233\n",
            "171/171 [==============================] - 9s 55ms/sample - loss: 0.0111 - acc: 1.0000 - val_loss: 1.0182 - val_acc: 0.7849\n",
            "Epoch 5/30\n",
            "168/171 [============================>.] - ETA: 0s - loss: 0.0045 - acc: 1.0000\n",
            "Epoch 00005: val_acc did not improve from 0.80233\n",
            "171/171 [==============================] - 9s 56ms/sample - loss: 0.0044 - acc: 1.0000 - val_loss: 1.0784 - val_acc: 0.8023\n",
            "Epoch 6/30\n",
            "168/171 [============================>.] - ETA: 0s - loss: 0.0137 - acc: 0.9940\n",
            "Epoch 00006: val_acc did not improve from 0.80233\n",
            "171/171 [==============================] - 10s 56ms/sample - loss: 0.0135 - acc: 0.9942 - val_loss: 1.2975 - val_acc: 0.7616\n",
            "Epoch 7/30\n",
            "168/171 [============================>.] - ETA: 0s - loss: 0.0113 - acc: 1.0000\n",
            "Epoch 00007: val_acc did not improve from 0.80233\n",
            "171/171 [==============================] - 9s 56ms/sample - loss: 0.0111 - acc: 1.0000 - val_loss: 1.1057 - val_acc: 0.7907\n",
            "Epoch 8/30\n",
            "168/171 [============================>.] - ETA: 0s - loss: 0.0029 - acc: 1.0000\n",
            "Epoch 00008: val_acc did not improve from 0.80233\n",
            "171/171 [==============================] - 10s 56ms/sample - loss: 0.0028 - acc: 1.0000 - val_loss: 1.1734 - val_acc: 0.7907\n",
            "Epoch 9/30\n",
            "168/171 [============================>.] - ETA: 0s - loss: 0.0012 - acc: 1.0000\n",
            "Epoch 00009: val_acc did not improve from 0.80233\n",
            "171/171 [==============================] - 9s 55ms/sample - loss: 0.0011 - acc: 1.0000 - val_loss: 1.2005 - val_acc: 0.7965\n",
            "Epoch 10/30\n",
            "168/171 [============================>.] - ETA: 0s - loss: 0.0015 - acc: 1.0000\n",
            "Epoch 00010: val_acc did not improve from 0.80233\n",
            "171/171 [==============================] - 9s 55ms/sample - loss: 0.0015 - acc: 1.0000 - val_loss: 1.2502 - val_acc: 0.7849\n",
            "Epoch 11/30\n",
            "168/171 [============================>.] - ETA: 0s - loss: 0.0011 - acc: 1.0000\n",
            "Epoch 00011: val_acc did not improve from 0.80233\n",
            "171/171 [==============================] - 9s 55ms/sample - loss: 0.0011 - acc: 1.0000 - val_loss: 1.2654 - val_acc: 0.7907\n",
            "Epoch 12/30\n",
            "168/171 [============================>.] - ETA: 0s - loss: 0.0017 - acc: 1.0000\n",
            "Epoch 00012: val_acc did not improve from 0.80233\n",
            "171/171 [==============================] - 9s 55ms/sample - loss: 0.0016 - acc: 1.0000 - val_loss: 1.2996 - val_acc: 0.7907\n",
            "Epoch 13/30\n",
            "168/171 [============================>.] - ETA: 0s - loss: 0.0047 - acc: 1.0000\n",
            "Epoch 00013: val_acc did not improve from 0.80233\n",
            "171/171 [==============================] - 9s 55ms/sample - loss: 0.0046 - acc: 1.0000 - val_loss: 1.2335 - val_acc: 0.7965\n",
            "Epoch 14/30\n",
            "168/171 [============================>.] - ETA: 0s - loss: 0.0061 - acc: 1.0000\n",
            "Epoch 00014: val_acc did not improve from 0.80233\n",
            "171/171 [==============================] - 9s 55ms/sample - loss: 0.0060 - acc: 1.0000 - val_loss: 1.1927 - val_acc: 0.7907\n",
            "Epoch 15/30\n",
            "168/171 [============================>.] - ETA: 0s - loss: 0.0016 - acc: 1.0000\n",
            "Epoch 00015: val_acc did not improve from 0.80233\n",
            "171/171 [==============================] - 9s 55ms/sample - loss: 0.0016 - acc: 1.0000 - val_loss: 1.2693 - val_acc: 0.7907\n",
            "Epoch 16/30\n",
            "168/171 [============================>.] - ETA: 0s - loss: 0.0013 - acc: 1.0000\n",
            "Epoch 00016: val_acc did not improve from 0.80233\n",
            "171/171 [==============================] - 9s 55ms/sample - loss: 0.0012 - acc: 1.0000 - val_loss: 1.2631 - val_acc: 0.8023\n",
            "Epoch 17/30\n",
            "168/171 [============================>.] - ETA: 0s - loss: 4.4654e-04 - acc: 1.0000\n",
            "Epoch 00017: val_acc did not improve from 0.80233\n",
            "171/171 [==============================] - 9s 55ms/sample - loss: 4.5337e-04 - acc: 1.0000 - val_loss: 1.2718 - val_acc: 0.8023\n",
            "Epoch 18/30\n",
            "168/171 [============================>.] - ETA: 0s - loss: 0.0068 - acc: 0.9940\n",
            "Epoch 00018: val_acc did not improve from 0.80233\n",
            "171/171 [==============================] - 9s 55ms/sample - loss: 0.0067 - acc: 0.9942 - val_loss: 1.3759 - val_acc: 0.7733\n",
            "Epoch 19/30\n",
            "168/171 [============================>.] - ETA: 0s - loss: 0.0012 - acc: 1.0000\n",
            "Epoch 00019: val_acc did not improve from 0.80233\n",
            "171/171 [==============================] - 9s 55ms/sample - loss: 0.0015 - acc: 1.0000 - val_loss: 1.4103 - val_acc: 0.7733\n",
            "Epoch 20/30\n",
            "168/171 [============================>.] - ETA: 0s - loss: 0.0014 - acc: 1.0000\n",
            "Epoch 00020: val_acc did not improve from 0.80233\n",
            "171/171 [==============================] - 10s 56ms/sample - loss: 0.0014 - acc: 1.0000 - val_loss: 1.4102 - val_acc: 0.7907\n",
            "Epoch 21/30\n",
            "168/171 [============================>.] - ETA: 0s - loss: 8.3559e-04 - acc: 1.0000\n",
            "Epoch 00021: val_acc did not improve from 0.80233\n",
            "171/171 [==============================] - 10s 56ms/sample - loss: 8.3594e-04 - acc: 1.0000 - val_loss: 1.4835 - val_acc: 0.7907\n",
            "Epoch 22/30\n",
            "168/171 [============================>.] - ETA: 0s - loss: 3.9939e-04 - acc: 1.0000\n",
            "Epoch 00022: val_acc did not improve from 0.80233\n",
            "171/171 [==============================] - 10s 56ms/sample - loss: 3.9703e-04 - acc: 1.0000 - val_loss: 1.4761 - val_acc: 0.7965\n",
            "Epoch 23/30\n",
            "168/171 [============================>.] - ETA: 0s - loss: 3.9097e-04 - acc: 1.0000\n",
            "Epoch 00023: val_acc did not improve from 0.80233\n",
            "171/171 [==============================] - 10s 56ms/sample - loss: 4.0702e-04 - acc: 1.0000 - val_loss: 1.4896 - val_acc: 0.7849\n",
            "Epoch 24/30\n",
            "168/171 [============================>.] - ETA: 0s - loss: 2.5351e-04 - acc: 1.0000\n",
            "Epoch 00024: val_acc did not improve from 0.80233\n",
            "171/171 [==============================] - 10s 56ms/sample - loss: 2.5394e-04 - acc: 1.0000 - val_loss: 1.5074 - val_acc: 0.7791\n",
            "Epoch 25/30\n",
            "168/171 [============================>.] - ETA: 0s - loss: 5.7871e-04 - acc: 1.0000\n",
            "Epoch 00025: val_acc did not improve from 0.80233\n",
            "171/171 [==============================] - 10s 56ms/sample - loss: 5.6938e-04 - acc: 1.0000 - val_loss: 1.5075 - val_acc: 0.7849\n",
            "Epoch 26/30\n",
            "168/171 [============================>.] - ETA: 0s - loss: 2.4687e-04 - acc: 1.0000\n",
            "Epoch 00026: val_acc did not improve from 0.80233\n",
            "171/171 [==============================] - 10s 56ms/sample - loss: 2.4337e-04 - acc: 1.0000 - val_loss: 1.5089 - val_acc: 0.7791\n",
            "Epoch 27/30\n",
            "168/171 [============================>.] - ETA: 0s - loss: 2.6267e-04 - acc: 1.0000\n",
            "Epoch 00027: val_acc did not improve from 0.80233\n",
            "171/171 [==============================] - 10s 56ms/sample - loss: 2.5935e-04 - acc: 1.0000 - val_loss: 1.4942 - val_acc: 0.7907\n",
            "Epoch 28/30\n",
            "168/171 [============================>.] - ETA: 0s - loss: 2.6905e-04 - acc: 1.0000\n",
            "Epoch 00028: val_acc did not improve from 0.80233\n",
            "171/171 [==============================] - 10s 56ms/sample - loss: 2.6547e-04 - acc: 1.0000 - val_loss: 1.4972 - val_acc: 0.7907\n",
            "Epoch 29/30\n",
            "168/171 [============================>.] - ETA: 0s - loss: 3.3687e-04 - acc: 1.0000\n",
            "Epoch 00029: val_acc did not improve from 0.80233\n",
            "171/171 [==============================] - 10s 56ms/sample - loss: 3.3196e-04 - acc: 1.0000 - val_loss: 1.5122 - val_acc: 0.7907\n",
            "Epoch 30/30\n",
            "168/171 [============================>.] - ETA: 0s - loss: 1.5733e-04 - acc: 1.0000\n",
            "Epoch 00030: val_acc did not improve from 0.80233\n",
            "171/171 [==============================] - 10s 56ms/sample - loss: 1.5493e-04 - acc: 1.0000 - val_loss: 1.5160 - val_acc: 0.7849\n"
          ],
          "name": "stdout"
        }
      ]
    },
    {
      "cell_type": "code",
      "metadata": {
        "id": "tUaTrpY5GJcx",
        "colab_type": "code",
        "colab": {}
      },
      "source": [
        ""
      ],
      "execution_count": 0,
      "outputs": []
    },
    {
      "cell_type": "code",
      "metadata": {
        "id": "whha9AvXH8dB",
        "colab_type": "code",
        "colab": {
          "base_uri": "https://localhost:8080/",
          "height": 390
        },
        "outputId": "fb636690-edd5-4907-d237-638c84711348"
      },
      "source": [
        "def plot_accuracy_and_loss(train_model):\n",
        "    hist = train_model.history\n",
        "    acc = hist['acc']\n",
        "    val_acc = hist['val_acc']\n",
        "    loss = hist['loss']\n",
        "    val_loss = hist['val_loss']\n",
        "    epochs = range(len(acc))\n",
        "    f, ax = plt.subplots(1,2, figsize=(14,6))\n",
        "    ax[0].plot(epochs, acc, 'g', label='Training accuracy')\n",
        "    ax[0].plot(epochs, val_acc, 'r', label='Validation accuracy')\n",
        "    ax[0].set_title('Training and validation accuracy')\n",
        "    ax[0].legend()\n",
        "    ax[1].plot(epochs, loss, 'g', label='Training loss')\n",
        "    ax[1].plot(epochs, val_loss, 'r', label='Validation loss')\n",
        "    ax[1].set_title('Training and validation loss')\n",
        "    ax[1].legend()\n",
        "    plt.show()\n",
        "plot_accuracy_and_loss(train_model)\n"
      ],
      "execution_count": 39,
      "outputs": [
        {
          "output_type": "display_data",
          "data": {
            "image/png": "[encoded data removed]",
            "text/plain": [
              "<Figure size 1008x432 with 2 Axes>"
            ]
          },
          "metadata": {
            "tags": []
          }
        }
      ]
    },
    {
      "cell_type": "code",
      "metadata": {
        "id": "qph2ByZHIHAc",
        "colab_type": "code",
        "colab": {
          "base_uri": "https://localhost:8080/",
          "height": 51
        },
        "outputId": "e81bb35f-df91-41dd-e3c7-f9a8c33a3b0b"
      },
      "source": [
        "score = model.evaluate(X_val, y_val, verbose=0)\n",
        "print('Validation loss:', score[0])\n",
        "print('Validation accuracy:', score[1])"
      ],
      "execution_count": 40,
      "outputs": [
        {
          "output_type": "stream",
          "text": [
            "Validation loss: 1.000887856927029\n",
            "Validation accuracy: 0.73255813\n"
          ],
          "name": "stdout"
        }
      ]
    },
    {
      "cell_type": "code",
      "metadata": {
        "id": "0Q7DN6_ZINCg",
        "colab_type": "code",
        "colab": {}
      },
      "source": [
        "#get the predictions for the test data\n",
        "predicted_classes = model.predict_classes(X_val)\n",
        "#get the indices to be plotted\n",
        "y_true = np.argmax(y_val,axis=1)"
      ],
      "execution_count": 0,
      "outputs": []
    },
    {
      "cell_type": "code",
      "metadata": {
        "id": "zeByKzg1IYyt",
        "colab_type": "code",
        "colab": {}
      },
      "source": [
        "correct = np.nonzero(predicted_classes==y_true)[0]\n",
        "incorrect = np.nonzero(predicted_classes!=y_true)[0]"
      ],
      "execution_count": 0,
      "outputs": []
    },
    {
      "cell_type": "code",
      "metadata": {
        "id": "h4SQjlpzIdDk",
        "colab_type": "code",
        "colab": {
          "base_uri": "https://localhost:8080/",
          "height": 187
        },
        "outputId": "29495aef-902e-4ff0-9a58-58cce9a9546c"
      },
      "source": [
        "target_names = [\"Class {}:\".format(i) for i in range(NUM_CLASSES)]\n",
        "print(classification_report(y_true, predicted_classes, target_names=target_names))\n"
      ],
      "execution_count": 43,
      "outputs": [
        {
          "output_type": "stream",
          "text": [
            "              precision    recall  f1-score   support\n",
            "\n",
            "    Class 0:       0.86      0.72      0.78        93\n",
            "    Class 1:       0.81      0.84      0.82        25\n",
            "    Class 2:       0.56      0.70      0.62        54\n",
            "\n",
            "    accuracy                           0.73       172\n",
            "   macro avg       0.74      0.75      0.74       172\n",
            "weighted avg       0.76      0.73      0.74       172\n",
            "\n"
          ],
          "name": "stdout"
        }
      ]
    },
    {
      "cell_type": "code",
      "metadata": {
        "id": "nkzaRoUWIrz_",
        "colab_type": "code",
        "colab": {
          "base_uri": "https://localhost:8080/",
          "height": 85
        },
        "outputId": "f8211716-0e8e-4588-d218-b52f272c9bfe"
      },
      "source": [
        "pred_list = []\n",
        "img_list = []\n",
        "for img in tqdm(test):\n",
        "    img_data = img[0]\n",
        "    img_idx = img[1]\n",
        "    data = img_data.reshape(-1,IMG_SIZE,IMG_SIZE,3)\n",
        "    predicted = model.predict([data])[0]\n",
        "    print(predicted)\n",
        "    img_list.append(img_idx)\n",
        "    pred_list.append(predicted)"
      ],
      "execution_count": 47,
      "outputs": [
        {
          "output_type": "stream",
          "text": [
            "100%|██████████| 3/3 [00:00<00:00, 17.85it/s]"
          ],
          "name": "stderr"
        },
        {
          "output_type": "stream",
          "text": [
            "[0.9619114  0.02033411 0.01775445]\n",
            "[4.3520786e-06 9.9687237e-01 3.1232503e-03]\n",
            "[0.5373747  0.10406143 0.35856387]\n"
          ],
          "name": "stdout"
        },
        {
          "output_type": "stream",
          "text": [
            "\n"
          ],
          "name": "stderr"
        }
      ]
    },
    {
      "cell_type": "code",
      "metadata": {
        "colab_type": "code",
        "id": "kC2mP9Kqjf-Y",
        "colab": {
          "base_uri": "https://localhost:8080/",
          "height": 34
        },
        "outputId": "b0212484-f7d2-4449-c640-b605d592a70e"
      },
      "source": [
        "pred_list"
      ],
      "execution_count": 45,
      "outputs": [
        {
          "output_type": "execute_result",
          "data": {
            "text/plain": [
              "[0.020334108, 0.99687237, 0.10406143]"
            ]
          },
          "metadata": {
            "tags": []
          },
          "execution_count": 45
        }
      ]
    },
    {
      "cell_type": "code",
      "metadata": {
        "id": "AZKWJxN7KcNa",
        "colab_type": "code",
        "colab": {
          "base_uri": "https://localhost:8080/",
          "height": 68
        },
        "outputId": "003291da-19fe-4881-abab-52436401b0c5"
      },
      "source": [
        "img_list"
      ],
      "execution_count": 46,
      "outputs": [
        {
          "output_type": "execute_result",
          "data": {
            "text/plain": [
              "[array('drowsy (55)', dtype='<U11'),\n",
              " array('awake (3)', dtype='<U9'),\n",
              " array('asleep (1)', dtype='<U10')]"
            ]
          },
          "metadata": {
            "tags": []
          },
          "execution_count": 46
        }
      ]
    },
    {
      "cell_type": "code",
      "metadata": {
        "id": "usfptE9SKjGU",
        "colab_type": "code",
        "colab": {}
      },
      "source": [
        ""
      ],
      "execution_count": 0,
      "outputs": []
    }
  ]
}